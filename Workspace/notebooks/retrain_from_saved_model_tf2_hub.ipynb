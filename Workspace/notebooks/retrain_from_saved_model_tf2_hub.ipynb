{
  "nbformat": 4,
  "nbformat_minor": 0,
  "metadata": {
    "colab": {
      "name": "inference_from_saved_model_tf2_colab.ipynb",
      "provenance": [],
      "collapsed_sections": []
    },
    "kernelspec": {
      "name": "Python 3.6.10 64-bit",
      "display_name": "Python 3.6.10 64-bit",
      "metadata": {
        "interpreter": {
          "hash": "5188ed8e11400fe9674037a6727157ccbd5cf1e6582cd0c1b4dd6a6f6002acce"
        }
      }
    }L
  },
  "cells": [
    {
      "cell_type": "markdown",
      "metadata": {
        "colab_type": "text",
        "id": "cT5cdSLPX0ui"
      },
      "source": [
        "# Intro to Object Detection Colab\n",
        "\n",
        "Welcome to the object detection colab! This demo will take you through the steps of running an \"out-of-the-box\" detection model in SavedModel format on a collection of images.\n",
        "\n"
      ]
    },
    {
      "source": [
        "## Imports and Setup\n",
        "Lets start with the base imports"
      ],
      "cell_type": "markdown",
      "metadata": {}
    },
    {
      "cell_type": "code",
      "execution_count": 1,
      "metadata": {
        "tags": []
      },
      "outputs": [
        {
          "output_type": "stream",
          "name": "stdout",
          "text": "TF version: 2.3.1\nHub version: 0.9.0\nGPU is available\n"
        }
      ],
      "source": [
        "import os\n",
        "import pathlib\n",
        "\n",
        "import matplotlib\n",
        "import matplotlib.pyplot as plt\n",
        "\n",
        "import io\n",
        "import scipy.misc\n",
        "import numpy as np\n",
        "from six import BytesIO\n",
        "from PIL import Image, ImageDraw, ImageFont\n",
        "from six.moves.urllib.request import urlopen\n",
        "\n",
        "import tensorflow as tf\n",
        "import tensorflow_hub as hub\n",
        "\n",
        "#tf.get_logger().setLevel('ERROR')\n",
        "\n",
        "print(\"TF version:\", tf.__version__)\n",
        "print(\"Hub version:\", hub.__version__)\n",
        "print(\"GPU is\", \"available\" if tf.config.list_physical_devices('GPU') else \"NOT AVAILABLE\")\n"
      ]
    },
    {
      "source": [
        "## Utilities\n",
        "\n",
        "Run the following cell to create some utils that will be needed later:\n",
        "\n",
        "- Helper method to load an image\n",
        "- Map of Model Name to TF Hub handle\n",
        "- List of tuples with Human Keypoints for the COCO 2017 dataset. This is needed for models with keyponts."
      ],
      "cell_type": "markdown",
      "metadata": {}
    },
    {
      "cell_type": "code",
      "execution_count": 2,
      "metadata": {},
      "outputs": [],
      "source": [
        "# @title Run this!!\n",
        "\n",
        "def load_image_into_numpy_array(path):\n",
        "  \"\"\"Load an image from file into a numpy array.\n",
        "\n",
        "  Puts image into numpy array to feed into tensorflow graph.\n",
        "  Note that by convention we put it into a numpy array with shape\n",
        "  (height, width, channels), where channels=3 for RGB.\n",
        "\n",
        "  Args:\n",
        "    path: the file path to the image\n",
        "\n",
        "  Returns:\n",
        "    uint8 numpy array with shape (img_height, img_width, 3)\n",
        "  \"\"\"\n",
        "  image = None\n",
        "  if(path.startswith('http')):\n",
        "    response = urlopen(path)\n",
        "    image_data = response.read()\n",
        "    image_data = BytesIO(image_data)\n",
        "    image = Image.open(image_data)\n",
        "  else:\n",
        "    image_data = tf.io.gfile.GFile(path, 'rb').read()\n",
        "    image = Image.open(BytesIO(image_data))\n",
        "\n",
        "  (im_width, im_height) = image.size\n",
        "  return np.array(image.getdata()).reshape(\n",
        "      (1, im_height, im_width, 3)).astype(np.uint8)\n",
        "\n",
        "\n",
        "ALL_MODELS = {\n",
        "'CenterNet HourGlass104 512x512' : 'https://tfhub.dev/tensorflow/centernet/hourglass_512x512/1',\n",
        "'CenterNet HourGlass104 Keypoints 512x512' : 'https://tfhub.dev/tensorflow/centernet/hourglass_512x512_kpts/1',\n",
        "'CenterNet HourGlass104 1024x1024' : 'https://tfhub.dev/tensorflow/centernet/hourglass_1024x1024/1',\n",
        "'CenterNet HourGlass104 Keypoints 1024x1024' : 'https://tfhub.dev/tensorflow/centernet/hourglass_1024x1024_kpts/1',\n",
        "'CenterNet Resnet50 V1 FPN 512x512' : 'https://tfhub.dev/tensorflow/centernet/resnet50v1_fpn_512x512/1',\n",
        "'CenterNet Resnet50 V1 FPN Keypoints 512x512' : 'https://tfhub.dev/tensorflow/centernet/resnet50v1_fpn_512x512_kpts/1',\n",
        "'CenterNet Resnet101 V1 FPN 512x512' : 'https://tfhub.dev/tensorflow/centernet/resnet101v1_fpn_512x512/1',\n",
        "'CenterNet Resnet50 V2 512x512' : 'https://tfhub.dev/tensorflow/centernet/resnet50v2_512x512/1',\n",
        "'CenterNet Resnet50 V2 Keypoints 512x512' : 'https://tfhub.dev/tensorflow/centernet/resnet50v2_512x512_kpts/1',\n",
        "'EfficientDet D0 512x512' : 'https://tfhub.dev/tensorflow/efficientdet/d0/1',\n",
        "'EfficientDet D1 640x640' : 'https://tfhub.dev/tensorflow/efficientdet/d1/1',\n",
        "'EfficientDet D2 768x768' : 'https://tfhub.dev/tensorflow/efficientdet/d2/1',\n",
        "'EfficientDet D3 896x896' : 'https://tfhub.dev/tensorflow/efficientdet/d3/1',\n",
        "'EfficientDet D4 1024x1024' : 'https://tfhub.dev/tensorflow/efficientdet/d4/1',\n",
        "'EfficientDet D5 1280x1280' : 'https://tfhub.dev/tensorflow/efficientdet/d5/1',\n",
        "'EfficientDet D6 1280x1280' : 'https://tfhub.dev/tensorflow/efficientdet/d6/1',\n",
        "'EfficientDet D7 1536x1536' : 'https://tfhub.dev/tensorflow/efficientdet/d7/1',\n",
        "'SSD MobileNet v2 320x320' : 'https://tfhub.dev/tensorflow/ssd_mobilenet_v2/2',\n",
        "'SSD MobileNet V1 FPN 640x640' : 'https://tfhub.dev/tensorflow/ssd_mobilenet_v1/fpn_640x640/1',\n",
        "'SSD MobileNet V2 FPNLite 320x320' : 'https://tfhub.dev/tensorflow/ssd_mobilenet_v2/fpnlite_320x320/1',\n",
        "'SSD MobileNet V2 FPNLite 640x640' : 'https://tfhub.dev/tensorflow/ssd_mobilenet_v2/fpnlite_640x640/1',\n",
        "'SSD ResNet50 V1 FPN 640x640 (RetinaNet50)' : 'https://tfhub.dev/tensorflow/retinanet/resnet50_v1_fpn_640x640/1',\n",
        "'SSD ResNet50 V1 FPN 1024x1024 (RetinaNet50)' : 'https://tfhub.dev/tensorflow/retinanet/resnet50_v1_fpn_1024x1024/1',\n",
        "'SSD ResNet101 V1 FPN 640x640 (RetinaNet101)' : 'https://tfhub.dev/tensorflow/retinanet/resnet101_v1_fpn_640x640/1',\n",
        "'SSD ResNet101 V1 FPN 1024x1024 (RetinaNet101)' : 'https://tfhub.dev/tensorflow/retinanet/resnet101_v1_fpn_1024x1024/1',\n",
        "'SSD ResNet152 V1 FPN 640x640 (RetinaNet152)' : 'https://tfhub.dev/tensorflow/retinanet/resnet152_v1_fpn_640x640/1',\n",
        "'SSD ResNet152 V1 FPN 1024x1024 (RetinaNet152)' : 'https://tfhub.dev/tensorflow/retinanet/resnet152_v1_fpn_1024x1024/1',\n",
        "'Faster R-CNN ResNet50 V1 640x640' : 'https://tfhub.dev/tensorflow/faster_rcnn/resnet50_v1_640x640/1',\n",
        "'Faster R-CNN ResNet50 V1 1024x1024' : 'https://tfhub.dev/tensorflow/faster_rcnn/resnet50_v1_1024x1024/1',\n",
        "'Faster R-CNN ResNet50 V1 800x1333' : 'https://tfhub.dev/tensorflow/faster_rcnn/resnet50_v1_800x1333/1',\n",
        "'Faster R-CNN ResNet101 V1 640x640' : 'https://tfhub.dev/tensorflow/faster_rcnn/resnet101_v1_640x640/1',\n",
        "'Faster R-CNN ResNet101 V1 1024x1024' : 'https://tfhub.dev/tensorflow/faster_rcnn/resnet101_v1_1024x1024/1',\n",
        "'Faster R-CNN ResNet101 V1 800x1333' : 'https://tfhub.dev/tensorflow/faster_rcnn/resnet101_v1_800x1333/1',\n",
        "'Faster R-CNN ResNet152 V1 640x640' : 'https://tfhub.dev/tensorflow/faster_rcnn/resnet152_v1_640x640/1',\n",
        "'Faster R-CNN ResNet152 V1 1024x1024' : 'https://tfhub.dev/tensorflow/faster_rcnn/resnet152_v1_1024x1024/1',\n",
        "'Faster R-CNN ResNet152 V1 800x1333' : 'https://tfhub.dev/tensorflow/faster_rcnn/resnet152_v1_800x1333/1',\n",
        "'Faster R-CNN Inception ResNet V2 640x640' : 'https://tfhub.dev/tensorflow/faster_rcnn/inception_resnet_v2_640x640/1',\n",
        "'Faster R-CNN Inception ResNet V2 1024x1024' : 'https://tfhub.dev/tensorflow/faster_rcnn/inception_resnet_v2_1024x1024/1',\n",
        "'Mask R-CNN Inception ResNet V2 1024x1024' : 'https://tfhub.dev/tensorflow/mask_rcnn/inception_resnet_v2_1024x1024/1'\n",
        "}\n",
        "\n",
        "IMAGES_FOR_TEST = {\n",
        "  'Beach' : 'models/research/object_detection/test_images/image2.jpg',\n",
        "  'Dogs' : 'models/research/object_detection/test_images/image1.jpg',\n",
        "  # By Heiko Gorski, Source: https://commons.wikimedia.org/wiki/File:Naxos_Taverna.jpg\n",
        "  'Naxos Taverna' : 'https://upload.wikimedia.org/wikipedia/commons/6/60/Naxos_Taverna.jpg',\n",
        "  # Source: https://commons.wikimedia.org/wiki/File:The_Coleoptera_of_the_British_islands_(Plate_125)_(8592917784).jpg\n",
        "  'Beatles' : 'https://upload.wikimedia.org/wikipedia/commons/1/1b/The_Coleoptera_of_the_British_islands_%28Plate_125%29_%288592917784%29.jpg',\n",
        "  # By Américo Toledano, Source: https://commons.wikimedia.org/wiki/File:Biblioteca_Maim%C3%B3nides,_Campus_Universitario_de_Rabanales_007.jpg\n",
        "  'Phones' : 'https://upload.wikimedia.org/wikipedia/commons/thumb/0/0d/Biblioteca_Maim%C3%B3nides%2C_Campus_Universitario_de_Rabanales_007.jpg/1024px-Biblioteca_Maim%C3%B3nides%2C_Campus_Universitario_de_Rabanales_007.jpg',\n",
        "  # Source: https://commons.wikimedia.org/wiki/File:The_smaller_British_birds_(8053836633).jpg\n",
        "  'Birds' : 'https://upload.wikimedia.org/wikipedia/commons/0/09/The_smaller_British_birds_%288053836633%29.jpg',\n",
        "}\n",
        "\n",
        "COCO17_HUMAN_POSE_KEYPOINTS = [(0, 1),\n",
        " (0, 2),\n",
        " (1, 3),\n",
        " (2, 4),\n",
        " (0, 5),\n",
        " (0, 6),\n",
        " (5, 7),\n",
        " (7, 9),\n",
        " (6, 8),\n",
        " (8, 10),\n",
        " (5, 6),\n",
        " (5, 11),\n",
        " (6, 12),\n",
        " (11, 12),\n",
        " (11, 13),\n",
        " (13, 15),\n",
        " (12, 14),\n",
        " (14, 16)]"
      ]
    },
    {
      "source": [
        "## Load label map data (for plotting)\n",
        "\n",
        "Label maps correspond index numbers to category names, so that when our convolution network predicts 5, we know that this corresponds to airplane. Here we use internal utility functions, but anything that returns a dictionary mapping integers to appropriate string labels would be fine.\n",
        "\n",
        "We are going, for simplicity, to load from the repository that we loaded the Object Detection API code"
      ],
      "cell_type": "markdown",
      "metadata": {}
    },
    {
      "cell_type": "code",
      "execution_count": 3,
      "metadata": {},
      "outputs": [],
      "source": [
        "from object_detection.utils import label_map_util\n",
        "from object_detection.utils import visualization_utils as viz_utils\n",
        "from object_detection.utils import ops as utils_ops\n",
        "\n",
        "PATH_TO_LABELS = r'D:\\MyWork\\TF_OD_API\\Workspace\\training_demo\\annotations\\label_map.pbtxt'\n",
        "category_index = label_map_util.create_category_index_from_labelmap(PATH_TO_LABELS, use_display_name=True)"
      ]
    },
    {
      "source": [
        "## Build a detection model and load pre-trained model weights\n",
        "Here we will choose witch Object Detection model we will use. Select the architecture and it will be loaded automatically. If you want to change the model to try other architectures later, just change the next cell and execute following ones.\n",
        "\n",
        "Tip: if you want to read more details about the selected model, you can follow the link (model handle) and read aditional documentation on TF Hub. After you select a model, we will print the handle to make it easier."
      ],
      "cell_type": "markdown",
      "metadata": {}
    },
    {
      "cell_type": "code",
      "execution_count": 4,
      "metadata": {
        "tags": []
      },
      "outputs": [
        {
          "output_type": "stream",
          "name": "stdout",
          "text": "Selected model:CenterNet HourGlass104 Keypoints 512x512\nModel Handle at TensorFlow Hub: https://tfhub.dev/tensorflow/centernet/hourglass_512x512_kpts/1\n"
        }
      ],
      "source": [
        "\n",
        "model_display_name = 'CenterNet HourGlass104 Keypoints 512x512' # @param ['CenterNet HourGlass104 512x512','CenterNet HourGlass104 Keypoints 512x512','CenterNet HourGlass104 1024x1024','CenterNet HourGlass104 Keypoints 1024x1024','CenterNet Resnet50 V1 FPN 512x512','CenterNet Resnet50 V1 FPN Keypoints 512x512','CenterNet Resnet101 V1 FPN 512x512','CenterNet Resnet50 V2 512x512','CenterNet Resnet50 V2 Keypoints 512x512','EfficientDet D0 512x512','EfficientDet D1 640x640','EfficientDet D2 768x768','EfficientDet D3 896x896','EfficientDet D4 1024x1024','EfficientDet D5 1280x1280','EfficientDet D6 1280x1280','EfficientDet D7 1536x1536','SSD MobileNet v2 320x320','SSD MobileNet V1 FPN 640x640','SSD MobileNet V2 FPNLite 320x320','SSD MobileNet V2 FPNLite 640x640','SSD ResNet50 V1 FPN 640x640 (RetinaNet50)','SSD ResNet50 V1 FPN 1024x1024 (RetinaNet50)','SSD ResNet101 V1 FPN 640x640 (RetinaNet101)','SSD ResNet101 V1 FPN 1024x1024 (RetinaNet101)','SSD ResNet152 V1 FPN 640x640 (RetinaNet152)','SSD ResNet152 V1 FPN 1024x1024 (RetinaNet152)','Faster R-CNN ResNet50 V1 640x640','Faster R-CNN ResNet50 V1 1024x1024','Faster R-CNN ResNet50 V1 800x1333','Faster R-CNN ResNet101 V1 640x640','Faster R-CNN ResNet101 V1 1024x1024','Faster R-CNN ResNet101 V1 800x1333','Faster R-CNN ResNet152 V1 640x640','Faster R-CNN ResNet152 V1 1024x1024','Faster R-CNN ResNet152 V1 800x1333','Faster R-CNN Inception ResNet V2 640x640','Faster R-CNN Inception ResNet V2 1024x1024','Mask R-CNN Inception ResNet V2 1024x1024']\n",
        "model_handle = ALL_MODELS[model_display_name]\n",
        "\n",
        "print('Selected model:'+ model_display_name)\n",
        "print('Model Handle at TensorFlow Hub: {}'.format(model_handle))"
      ]
    },
    {
      "source": [
        "## Loading the selected model from TensorFlow Hub\n",
        "Here we just need the model handle that was selected and use the Tensorflow Hub library to load it to memory."
      ],
      "cell_type": "markdown",
      "metadata": {}
    },
    {
      "cell_type": "code",
      "execution_count": 5,
      "metadata": {
        "tags": [
          "outputPrepend"
        ]
      },
      "outputs": [
        {
          "output_type": "stream",
          "name": "stdout",
          "text": " custom gradients. Will likely fail if a gradient is requested.\nWARNING:tensorflow:Importing a function (__inference_center_net_hourglass_feature_extractor_layer_call_and_return_conditional_losses_139752) with ops with custom gradients. Will likely fail if a gradient is requested.\nWARNING:tensorflow:Importing a function (__inference_center_net_hourglass_feature_extractor_layer_call_and_return_conditional_losses_139752) with ops with custom gradients. Will likely fail if a gradient is requested.\nWARNING:tensorflow:Importing a function (__inference_center_net_hourglass_feature_extractor_layer_call_and_return_conditional_losses_139752) with ops with custom gradients. Will likely fail if a gradient is requested.\nWARNING:tensorflow:Importing a function (__inference_center_net_hourglass_feature_extractor_layer_call_and_return_conditional_losses_139752) with ops with custom gradients. Will likely fail if a gradient is requested.\nWARNING:tensorflow:Importing a function (__inference_center_net_hourglass_feature_extractor_layer_call_and_return_conditional_losses_139752) with ops with custom gradients. Will likely fail if a gradient is requested.\nWARNING:tensorflow:Importing a function (__inference_center_net_hourglass_feature_extractor_layer_call_and_return_conditional_losses_139752) with ops with custom gradients. Will likely fail if a gradient is requested.\nWARNING:tensorflow:Importing a function (__inference_center_net_hourglass_feature_extractor_layer_call_and_return_conditional_losses_139752) with ops with custom gradients. Will likely fail if a gradient is requested.\nWARNING:tensorflow:Importing a function (__inference_center_net_hourglass_feature_extractor_layer_call_and_return_conditional_losses_139752) with ops with custom gradients. Will likely fail if a gradient is requested.\nWARNING:tensorflow:Importing a function (__inference_center_net_hourglass_feature_extractor_layer_call_and_return_conditional_losses_139752) with ops with custom gradients. Will likely fail if a gradient is requested.\nWARNING:tensorflow:Importing a function (__inference_center_net_hourglass_feature_extractor_layer_call_and_return_conditional_losses_139752) with ops with custom gradients. Will likely fail if a gradient is requested.\nWARNING:tensorflow:Importing a function (__inference_center_net_hourglass_feature_extractor_layer_call_and_return_conditional_losses_139752) with ops with custom gradients. Will likely fail if a gradient is requested.\nWARNING:tensorflow:Importing a function (__inference_center_net_hourglass_feature_extractor_layer_call_and_return_conditional_losses_139752) with ops with custom gradients. Will likely fail if a gradient is requested.\nWARNING:tensorflow:Importing a function (__inference_center_net_hourglass_feature_extractor_layer_call_and_return_conditional_losses_139752) with ops with custom gradients. Will likely fail if a gradient is requested.\nWARNING:tensorflow:Importing a function (__inference_center_net_hourglass_feature_extractor_layer_call_and_return_conditional_losses_139752) with ops with custom gradients. Will likely fail if a gradient is requested.\nWARNING:tensorflow:Importing a function (__inference_center_net_hourglass_feature_extractor_layer_call_and_return_conditional_losses_139752) with ops with custom gradients. Will likely fail if a gradient is requested.\nWARNING:tensorflow:Importing a function (__inference_center_net_hourglass_feature_extractor_layer_call_and_return_conditional_losses_139752) with ops with custom gradients. Will likely fail if a gradient is requested.\nWARNING:tensorflow:Importing a function (__inference_center_net_hourglass_feature_extractor_layer_call_and_return_conditional_losses_139752) with ops with custom gradients. Will likely fail if a gradient is requested.\nWARNING:tensorflow:Importing a function (__inference_center_net_hourglass_feature_extractor_layer_call_and_return_conditional_losses_139752) with ops with custom gradients. Will likely fail if a gradient is requested.\nWARNING:tensorflow:Importing a function (__inference_center_net_hourglass_feature_extractor_layer_call_and_return_conditional_losses_139752) with ops with custom gradients. Will likely fail if a gradient is requested.\nWARNING:tensorflow:Importing a function (__inference_center_net_hourglass_feature_extractor_layer_call_and_return_conditional_losses_139752) with ops with custom gradients. Will likely fail if a gradient is requested.\nWARNING:tensorflow:Importing a function (__inference_center_net_hourglass_feature_extractor_layer_call_and_return_conditional_losses_139752) with ops with custom gradients. Will likely fail if a gradient is requested.\nWARNING:tensorflow:Importing a function (__inference_center_net_hourglass_feature_extractor_layer_call_and_return_conditional_losses_139752) with ops with custom gradients. Will likely fail if a gradient is requested.\nWARNING:tensorflow:Importing a function (__inference_center_net_hourglass_feature_extractor_layer_call_and_return_conditional_losses_139752) with ops with custom gradients. Will likely fail if a gradient is requested.\nWARNING:tensorflow:Importing a function (__inference_center_net_hourglass_feature_extractor_layer_call_and_return_conditional_losses_139752) with ops with custom gradients. Will likely fail if a gradient is requested.\nWARNING:tensorflow:Importing a function (__inference_center_net_hourglass_feature_extractor_layer_call_and_return_conditional_losses_139752) with ops with custom gradients. Will likely fail if a gradient is requested.\nWARNING:tensorflow:Importing a function (__inference_center_net_hourglass_feature_extractor_layer_call_and_return_conditional_losses_139752) with ops with custom gradients. Will likely fail if a gradient is requested.\nWARNING:tensorflow:Importing a function (__inference_center_net_hourglass_feature_extractor_layer_call_and_return_conditional_losses_139752) with ops with custom gradients. Will likely fail if a gradient is requested.\nWARNING:tensorflow:Importing a function (__inference_center_net_hourglass_feature_extractor_layer_call_and_return_conditional_losses_139752) with ops with custom gradients. Will likely fail if a gradient is requested.\nWARNING:tensorflow:Importing a function (__inference_center_net_hourglass_feature_extractor_layer_call_and_return_conditional_losses_139752) with ops with custom gradients. Will likely fail if a gradient is requested.\nWARNING:tensorflow:Importing a function (__inference_center_net_hourglass_feature_extractor_layer_call_and_return_conditional_losses_139752) with ops with custom gradients. Will likely fail if a gradient is requested.\nWARNING:tensorflow:Importing a function (__inference_center_net_hourglass_feature_extractor_layer_call_and_return_conditional_losses_139752) with ops with custom gradients. Will likely fail if a gradient is requested.\nWARNING:tensorflow:Importing a function (__inference_center_net_hourglass_feature_extractor_layer_call_and_return_conditional_losses_139752) with ops with custom gradients. Will likely fail if a gradient is requested.\nWARNING:tensorflow:Importing a function (__inference_center_net_hourglass_feature_extractor_layer_call_and_return_conditional_losses_139752) with ops with custom gradients. Will likely fail if a gradient is requested.\nWARNING:tensorflow:Importing a function (__inference_center_net_hourglass_feature_extractor_layer_call_and_return_conditional_losses_139752) with ops with custom gradients. Will likely fail if a gradient is requested.\nWARNING:tensorflow:Importing a function (__inference_center_net_hourglass_feature_extractor_layer_call_and_return_conditional_losses_139752) with ops with custom gradients. Will likely fail if a gradient is requested.\nWARNING:tensorflow:Importing a function (__inference_center_net_hourglass_feature_extractor_layer_call_and_return_conditional_losses_139752) with ops with custom gradients. Will likely fail if a gradient is requested.\nWARNING:tensorflow:Importing a function (__inference_center_net_hourglass_feature_extractor_layer_call_and_return_conditional_losses_139752) with ops with custom gradients. Will likely fail if a gradient is requested.\nWARNING:tensorflow:Importing a function (__inference_center_net_hourglass_feature_extractor_layer_call_and_return_conditional_losses_139752) with ops with custom gradients. Will likely fail if a gradient is requested.\nWARNING:tensorflow:Importing a function (__inference_center_net_hourglass_feature_extractor_layer_call_and_return_conditional_losses_139752) with ops with custom gradients. Will likely fail if a gradient is requested.\nWARNING:tensorflow:Importing a function (__inference_center_net_hourglass_feature_extractor_layer_call_and_return_conditional_losses_139752) with ops with custom gradients. Will likely fail if a gradient is requested.\nWARNING:tensorflow:Importing a function (__inference_center_net_hourglass_feature_extractor_layer_call_and_return_conditional_losses_139752) with ops with custom gradients. Will likely fail if a gradient is requested.\nWARNING:tensorflow:Importing a function (__inference_center_net_hourglass_feature_extractor_layer_call_and_return_conditional_losses_139752) with ops with custom gradients. Will likely fail if a gradient is requested.\nWARNING:tensorflow:Importing a function (__inference_center_net_hourglass_feature_extractor_layer_call_and_return_conditional_losses_139752) with ops with custom gradients. Will likely fail if a gradient is requested.\nWARNING:tensorflow:Importing a function (__inference_center_net_hourglass_feature_extractor_layer_call_and_return_conditional_losses_139752) with ops with custom gradients. Will likely fail if a gradient is requested.\nWARNING:tensorflow:Importing a function (__inference_center_net_hourglass_feature_extractor_layer_call_and_return_conditional_losses_139752) with ops with custom gradients. Will likely fail if a gradient is requested.\nWARNING:tensorflow:Importing a function (__inference_center_net_hourglass_feature_extractor_layer_call_and_return_conditional_losses_139752) with ops with custom gradients. Will likely fail if a gradient is requested.\nWARNING:tensorflow:Importing a function (__inference_center_net_hourglass_feature_extractor_layer_call_and_return_conditional_losses_139752) with ops with custom gradients. Will likely fail if a gradient is requested.\nWARNING:tensorflow:Importing a function (__inference_center_net_hourglass_feature_extractor_layer_call_and_return_conditional_losses_139752) with ops with custom gradients. Will likely fail if a gradient is requested.\nWARNING:tensorflow:Importing a function (__inference_center_net_hourglass_feature_extractor_layer_call_and_return_conditional_losses_139752) with ops with custom gradients. Will likely fail if a gradient is requested.\nWARNING:tensorflow:Importing a function (__inference_center_net_hourglass_feature_extractor_layer_call_and_return_conditional_losses_139752) with ops with custom gradients. Will likely fail if a gradient is requested.\nWARNING:tensorflow:Importing a function (__inference_center_net_hourglass_feature_extractor_layer_call_and_return_conditional_losses_139752) with ops with custom gradients. Will likely fail if a gradient is requested.\nWARNING:tensorflow:Importing a function (__inference_center_net_hourglass_feature_extractor_layer_call_and_return_conditional_losses_139752) with ops with custom gradients. Will likely fail if a gradient is requested.\nWARNING:tensorflow:Importing a function (__inference_center_net_hourglass_feature_extractor_layer_call_and_return_conditional_losses_139752) with ops with custom gradients. Will likely fail if a gradient is requested.\nWARNING:tensorflow:Importing a function (__inference_center_net_hourglass_feature_extractor_layer_call_and_return_conditional_losses_139752) with ops with custom gradients. Will likely fail if a gradient is requested.\nWARNING:tensorflow:Importing a function (__inference_center_net_hourglass_feature_extractor_layer_call_and_return_conditional_losses_139752) with ops with custom gradients. Will likely fail if a gradient is requested.\nWARNING:tensorflow:Importing a function (__inference_center_net_hourglass_feature_extractor_layer_call_and_return_conditional_losses_139752) with ops with custom gradients. Will likely fail if a gradient is requested.\nWARNING:tensorflow:Importing a function (__inference_center_net_hourglass_feature_extractor_layer_call_and_return_conditional_losses_139752) with ops with custom gradients. Will likely fail if a gradient is requested.\nWARNING:tensorflow:Importing a function (__inference_center_net_hourglass_feature_extractor_layer_call_and_return_conditional_losses_139752) with ops with custom gradients. Will likely fail if a gradient is requested.\nWARNING:tensorflow:Importing a function (__inference_center_net_hourglass_feature_extractor_layer_call_and_return_conditional_losses_139752) with ops with custom gradients. Will likely fail if a gradient is requested.\nWARNING:tensorflow:Importing a function (__inference_center_net_hourglass_feature_extractor_layer_call_and_return_conditional_losses_139752) with ops with custom gradients. Will likely fail if a gradient is requested.\nWARNING:tensorflow:Importing a function (__inference_center_net_hourglass_feature_extractor_layer_call_and_return_conditional_losses_139752) with ops with custom gradients. Will likely fail if a gradient is requested.\nWARNING:tensorflow:Importing a function (__inference_center_net_hourglass_feature_extractor_layer_call_and_return_conditional_losses_139752) with ops with custom gradients. Will likely fail if a gradient is requested.\nWARNING:tensorflow:Importing a function (__inference_batchnorm_layer_call_and_return_conditional_losses_213856) with ops with custom gradients. Will likely fail if a gradient is requested.\nWARNING:tensorflow:Importing a function (__inference_batchnorm_layer_call_and_return_conditional_losses_213856) with ops with custom gradients. Will likely fail if a gradient is requested.\nWARNING:tensorflow:Importing a function (__inference_batchnorm_layer_call_and_return_conditional_losses_207736) with ops with custom gradients. Will likely fail if a gradient is requested.\nWARNING:tensorflow:Importing a function (__inference_batchnorm_layer_call_and_return_conditional_losses_207736) with ops with custom gradients. Will likely fail if a gradient is requested.\nWARNING:tensorflow:Importing a function (__inference_batchnorm_layer_call_and_return_conditional_losses_43082) with ops with custom gradients. Will likely fail if a gradient is requested.\nWARNING:tensorflow:Importing a function (__inference_batchnorm_layer_call_and_return_conditional_losses_43082) with ops with custom gradients. Will likely fail if a gradient is requested.\nWARNING:tensorflow:Importing a function (__inference_batchnorm_layer_call_and_return_conditional_losses_216376) with ops with custom gradients. Will likely fail if a gradient is requested.\nWARNING:tensorflow:Importing a function (__inference_batchnorm_layer_call_and_return_conditional_losses_216376) with ops with custom gradients. Will likely fail if a gradient is requested.\nWARNING:tensorflow:Importing a function (__inference_batchnorm_layer_call_and_return_conditional_losses_43743) with ops with custom gradients. Will likely fail if a gradient is requested.\nWARNING:tensorflow:Importing a function (__inference_batchnorm_layer_call_and_return_conditional_losses_43743) with ops with custom gradients. Will likely fail if a gradient is requested.\nWARNING:tensorflow:Importing a function (__inference_batchnorm_layer_call_and_return_conditional_losses_43298) with ops with custom gradients. Will likely fail if a gradient is requested.\nWARNING:tensorflow:Importing a function (__inference_batchnorm_layer_call_and_return_conditional_losses_43298) with ops with custom gradients. Will likely fail if a gradient is requested.\nWARNING:tensorflow:Importing a function (__inference_batchnorm_layer_call_and_return_conditional_losses_25226) with ops with custom gradients. Will likely fail if a gradient is requested.\nWARNING:tensorflow:Importing a function (__inference_batchnorm_layer_call_and_return_conditional_losses_25226) with ops with custom gradients. Will likely fail if a gradient is requested.\nWARNING:tensorflow:Importing a function (__inference_batchnorm_layer_call_and_return_conditional_losses_33884) with ops with custom gradients. Will likely fail if a gradient is requested.\nWARNING:tensorflow:Importing a function (__inference_batchnorm_layer_call_and_return_conditional_losses_33884) with ops with custom gradients. Will likely fail if a gradient is requested.\nWARNING:tensorflow:Importing a function (__inference_batchnorm_layer_call_and_return_conditional_losses_26790) with ops with custom gradients. Will likely fail if a gradient is requested.\nWARNING:tensorflow:Importing a function (__inference_batchnorm_layer_call_and_return_conditional_losses_26790) with ops with custom gradients. Will likely fail if a gradient is requested.\nWARNING:tensorflow:Importing a function (__inference_batchnorm_layer_call_and_return_conditional_losses_211336) with ops with custom gradients. Will likely fail if a gradient is requested.\nWARNING:tensorflow:Importing a function (__inference_batchnorm_layer_call_and_return_conditional_losses_211336) with ops with custom gradients. Will likely fail if a gradient is requested.\nWARNING:tensorflow:Importing a function (__inference_batchnorm_layer_call_and_return_conditional_losses_47735) with ops with custom gradients. Will likely fail if a gradient is requested.\nWARNING:tensorflow:Importing a function (__inference_batchnorm_layer_call_and_return_conditional_losses_47735) with ops with custom gradients. Will likely fail if a gradient is requested.\nWARNING:tensorflow:Importing a function (__inference_batchnorm_layer_call_and_return_conditional_losses_30108) with ops with custom gradients. Will likely fail if a gradient is requested.\nWARNING:tensorflow:Importing a function (__inference_batchnorm_layer_call_and_return_conditional_losses_30108) with ops with custom gradients. Will likely fail if a gradient is requested.\nWARNING:tensorflow:Importing a function (__inference_batchnorm_layer_call_and_return_conditional_losses_219256) with ops with custom gradients. Will likely fail if a gradient is requested.\nWARNING:tensorflow:Importing a function (__inference_batchnorm_layer_call_and_return_conditional_losses_219256) with ops with custom gradients. Will likely fail if a gradient is requested.\nWARNING:tensorflow:Importing a function (__inference_batchnorm_layer_call_and_return_conditional_losses_213976) with ops with custom gradients. Will likely fail if a gradient is requested.\nWARNING:tensorflow:Importing a function (__inference_batchnorm_layer_call_and_return_conditional_losses_213976) with ops with custom gradients. Will likely fail if a gradient is requested.\nWARNING:tensorflow:Importing a function (__inference_batchnorm_layer_call_and_return_conditional_losses_218896) with ops with custom gradients. Will likely fail if a gradient is requested.\nWARNING:tensorflow:Importing a function (__inference_batchnorm_layer_call_and_return_conditional_losses_218896) with ops with custom gradients. Will likely fail if a gradient is requested.\nWARNING:tensorflow:Importing a function (__inference_batchnorm_layer_call_and_return_conditional_losses_55827) with ops with custom gradients. Will likely fail if a gradient is requested.\nWARNING:tensorflow:Importing a function (__inference_batchnorm_layer_call_and_return_conditional_losses_55827) with ops with custom gradients. Will likely fail if a gradient is requested.\nWARNING:tensorflow:Importing a function (__inference_batchnorm_layer_call_and_return_conditional_losses_56488) with ops with custom gradients. Will likely fail if a gradient is requested.\nWARNING:tensorflow:Importing a function (__inference_batchnorm_layer_call_and_return_conditional_losses_56488) with ops with custom gradients. Will likely fail if a gradient is requested.\nmodel loaded!\n"
        }
      ],
      "source": [
        "print('loading model...')\n",
        "hub_model = hub.load(model_handle)\n",
        "print('model loaded!')"
      ]
    },
    {
      "source": [
        "## Set up the Image dataset\n",
        "\n",
        "- The idea is to use TFRecords and tf.data.TFRecordDataset API to speed up data ingestion of the training pipeline. This way I could multi-process the data pre-processing task, and keep the GPUs maximally utilized."
      ],
      "cell_type": "markdown",
      "metadata": {}
    },
    {
      "cell_type": "code",
      "execution_count": 17,
      "metadata": {},
      "outputs": [
        {
          "output_type": "execute_result",
          "data": {
            "text/plain": "&lt;tf.Tensor: shape=(), dtype=int32, numpy=1&gt;"
          },
          "metadata": {},
          "execution_count": 17
        }
      ],
      "source": [
        "files = tf.io.matching_files(os.path.join(dataset_dir, '%s*' % \"train\"))\n",
        "tf.shape(files)[0]"
      ]
    },
    {
      "cell_type": "code",
      "execution_count": 18,
      "metadata": {},
      "outputs": [
        {
          "output_type": "error",
          "ename": "NameError",
          "evalue": "name &#39;parse_fn_train&#39; is not defined",
          "traceback": [
            "\u001b[1;31m---------------------------------------------------------------------------\u001b[0m",
            "\u001b[1;31mNameError\u001b[0m                                 Traceback (most recent call last)",
            "\u001b[1;32m&lt;ipython-input-18-98981cc3082e&gt;\u001b[0m in \u001b[0;36m&lt;module&gt;\u001b[1;34m\u001b[0m\n\u001b[0;32m     20\u001b[0m \u001b[1;31m# get training and validation data\u001b[0m\u001b[1;33m\u001b[0m\u001b[1;33m\u001b[0m\u001b[1;33m\u001b[0m\u001b[0m\n\u001b[0;32m     21\u001b[0m \u001b[0mdataset_dir\u001b[0m \u001b[1;33m=\u001b[0m \u001b[1;34mr&quot;D:\\MyWork\\TF_OD_API\\Workspace\\training_demo\\annotations&quot;\u001b[0m\u001b[1;33m\u001b[0m\u001b[1;33m\u001b[0m\u001b[0m\n\u001b[1;32m---&gt; 22\u001b[1;33m \u001b[0mds_train\u001b[0m \u001b[1;33m=\u001b[0m \u001b[0mget_dataset\u001b[0m\u001b[1;33m(\u001b[0m\u001b[0mdataset_dir\u001b[0m\u001b[1;33m,\u001b[0m \u001b[1;34m&#39;train&#39;\u001b[0m\u001b[1;33m,\u001b[0m \u001b[0mbatch_size\u001b[0m\u001b[1;33m=\u001b[0m\u001b[1;36m14\u001b[0m\u001b[1;33m)\u001b[0m\u001b[1;33m\u001b[0m\u001b[1;33m\u001b[0m\u001b[0m\n\u001b[0m\u001b[0;32m     23\u001b[0m \u001b[0mds_test\u001b[0m \u001b[1;33m=\u001b[0m \u001b[0mget_dataset\u001b[0m\u001b[1;33m(\u001b[0m\u001b[0mdataset_dir\u001b[0m\u001b[1;33m,\u001b[0m \u001b[1;34m&#39;test&#39;\u001b[0m\u001b[1;33m,\u001b[0m \u001b[0mbatch_size\u001b[0m\u001b[1;33m=\u001b[0m\u001b[1;36m14\u001b[0m\u001b[1;33m)\u001b[0m\u001b[1;33m\u001b[0m\u001b[1;33m\u001b[0m\u001b[0m\n\u001b[0;32m     24\u001b[0m &#39;&#39;&#39;\n",
            "\u001b[1;32m&lt;ipython-input-18-98981cc3082e&gt;\u001b[0m in \u001b[0;36mget_dataset\u001b[1;34m(tfrecords_dir, subset, batch_size)\u001b[0m\n\u001b[0;32m      9\u001b[0m     \u001b[0mdataset\u001b[0m \u001b[1;33m=\u001b[0m \u001b[0mshards\u001b[0m\u001b[1;33m.\u001b[0m\u001b[0minterleave\u001b[0m\u001b[1;33m(\u001b[0m\u001b[0mtf\u001b[0m\u001b[1;33m.\u001b[0m\u001b[0mdata\u001b[0m\u001b[1;33m.\u001b[0m\u001b[0mTFRecordDataset\u001b[0m\u001b[1;33m,\u001b[0m \u001b[0mcycle_length\u001b[0m\u001b[1;33m=\u001b[0m\u001b[1;36m4\u001b[0m\u001b[1;33m)\u001b[0m\u001b[1;33m\u001b[0m\u001b[1;33m\u001b[0m\u001b[0m\n\u001b[0;32m     10\u001b[0m     \u001b[1;31m#dataset = dataset.shuffle(buffer_size=1024)\u001b[0m\u001b[1;33m\u001b[0m\u001b[1;33m\u001b[0m\u001b[1;33m\u001b[0m\u001b[0m\n\u001b[1;32m---&gt; 11\u001b[1;33m     \u001b[0mparser\u001b[0m \u001b[1;33m=\u001b[0m \u001b[0mparse_fn_train\u001b[0m \u001b[1;32mif\u001b[0m \u001b[0msubset\u001b[0m \u001b[1;33m==\u001b[0m \u001b[1;34m&#39;train&#39;\u001b[0m \u001b[1;32melse\u001b[0m \u001b[0mparse_fn_valid\u001b[0m\u001b[1;33m\u001b[0m\u001b[1;33m\u001b[0m\u001b[0m\n\u001b[0m\u001b[0;32m     12\u001b[0m     dataset = dataset.apply(\n\u001b[0;32m     13\u001b[0m         tf.data.experimental.map_and_batch(\n",
            "\u001b[1;31mNameError\u001b[0m: name &#39;parse_fn_train&#39; is not defined"
          ]
        }
      ],
      "source": [
        "# helper function: to use tfrecord as tf.data dataset to be used directly in keras\n",
        "# Reference: https://jkjung-avt.github.io/tfrecords-for-keras/\n",
        "# https://github.com/jkjung-avt/keras_imagenet/blob/ece09ff909cf7db3640f849a7bf7036330574d29/utils/dataset.py\n",
        "def get_dataset(tfrecords_dir, subset, batch_size):\n",
        "    \"\"\"Read TFRecords files and turn them into a TFRecordDataset.\"\"\"\n",
        "    files = tf.io.matching_files(os.path.join(tfrecords_dir, '%s*' % subset))\n",
        "    shards = tf.data.Dataset.from_tensor_slices(files)\n",
        "    shards = shards.shuffle(tf.cast(tf.shape(files)[0], tf.int64))\n",
        "    shards = shards.repeat()\n",
        "    dataset = shards.interleave(tf.data.TFRecordDataset, cycle_length=4)\n",
        "    dataset = dataset.shuffle(buffer_size=1024)\n",
        "    parser = parse_fn_train if subset == 'train' else parse_fn_valid\n",
        "    dataset = dataset.apply(\n",
        "        tf.data.experimental.map_and_batch(\n",
        "            map_func=parser,\n",
        "            batch_size=batch_size,\n",
        "            num_parallel_calls=config.NUM_DATA_WORKERS))\n",
        "    dataset = dataset.prefetch(batch_size)\n",
        "    return dataset\n",
        "\n",
        "# get training and validation data\n",
        "dataset_dir = r\"D:\\MyWork\\TF_OD_API\\Workspace\\training_demo\\annotations\"\n",
        "ds_train = get_dataset(dataset_dir, 'train', batch_size=14)\n",
        "ds_test = get_dataset(dataset_dir, 'test', batch_size=14)\n",
        "'''\n",
        "model.fit(x=ds_train,......\n",
        "'''"
      ]
    },
    {
      "source": [
        "## Defining the model\n",
        "\n",
        "All it takes is to put a linear classifier on top of the feature_extractor_layer with the Hub module.\n",
        "For speed, we start out with a non-trainable feature_extractor_layer, but you can also enable fine-tuning for greater accuracy."
      ],
      "cell_type": "markdown",
      "metadata": {}
    },
    {
      "cell_type": "code",
      "execution_count": null,
      "metadata": {},
      "outputs": [],
      "source": [
        "do_fine_tuning = False \n",
        "print(\"Building model with\", MODULE_HANDLE)\n",
        "model = tf.keras.Sequential([\n",
        "    # Explicitly define the input shape so the model can be properly\n",
        "    # loaded by the TFLiteConverter\n",
        "    tf.keras.layers.InputLayer(input_shape=IMAGE_SIZE + (3,)),\n",
        "    hub.KerasLayer(MODULE_HANDLE, trainable=do_fine_tuning),\n",
        "    tf.keras.layers.Dropout(rate=0.2),\n",
        "    tf.keras.layers.Dense(train_generator.num_classes,\n",
        "                          kernel_regularizer=tf.keras.regularizers.l2(0.0001))\n",
        "])\n",
        "model.build((None,)+IMAGE_SIZE+(3,))\n",
        "model.summary()"
      ]
    },
    {
      "cell_type": "code",
      "metadata": {
        "colab_type": "code",
        "id": "yn5_uV1HLvaz",
        "colab": {}
      },
      "source": [
        "import io\n",
        "import os\n",
        "import scipy.misc\n",
        "import numpy as np\n",
        "import six\n",
        "import time\n",
        "\n",
        "from six import BytesIO\n",
        "\n",
        "import matplotlib\n",
        "import matplotlib.pyplot as plt\n",
        "from PIL import Image, ImageDraw, ImageFont\n",
        "\n",
        "import tensorflow as tf\n",
        "from object_detection.utils import visualization_utils as viz_utils\n",
        "\n",
        "%matplotlib inline"
      ],
      "execution_count": 4,
      "outputs": []
    },
    {
      "cell_type": "code",
      "metadata": {
        "colab_type": "code",
        "id": "-y9R0Xllefec",
        "colab": {}
      },
      "source": [
        "def load_image_into_numpy_array(path):\n",
        "  \"\"\"Load an image from file into a numpy array.\n",
        "\n",
        "  Puts image into numpy array to feed into tensorflow graph.\n",
        "  Note that by convention we put it into a numpy array with shape\n",
        "  (height, width, channels), where channels=3 for RGB.\n",
        "\n",
        "  Args:\n",
        "    path: a file path (this can be local or on colossus)\n",
        "\n",
        "  Returns:\n",
        "    uint8 numpy array with shape (img_height, img_width, 3)\n",
        "  \"\"\"\n",
        "  img_data = tf.io.gfile.GFile(path, 'rb').read()\n",
        "  image = Image.open(BytesIO(img_data))\n",
        "  (im_width, im_height) = image.size\n",
        "  return np.array(image.getdata()).reshape(\n",
        "      (im_height, im_width, 3)).astype(np.uint8)\n",
        "\n",
        "# Load the COCO Label Map\n",
        "category_index = {\n",
        "    1: {'id': 1, 'name': 'person'},\n",
        "    2: {'id': 2, 'name': 'bicycle'},\n",
        "    3: {'id': 3, 'name': 'car'},\n",
        "    4: {'id': 4, 'name': 'motorcycle'},\n",
        "    5: {'id': 5, 'name': 'airplane'},\n",
        "    6: {'id': 6, 'name': 'bus'},\n",
        "    7: {'id': 7, 'name': 'train'},\n",
        "    8: {'id': 8, 'name': 'truck'},\n",
        "    9: {'id': 9, 'name': 'boat'},\n",
        "    10: {'id': 10, 'name': 'traffic light'},\n",
        "    11: {'id': 11, 'name': 'fire hydrant'},\n",
        "    13: {'id': 13, 'name': 'stop sign'},\n",
        "    14: {'id': 14, 'name': 'parking meter'},\n",
        "    15: {'id': 15, 'name': 'bench'},\n",
        "    16: {'id': 16, 'name': 'bird'},\n",
        "    17: {'id': 17, 'name': 'cat'},\n",
        "    18: {'id': 18, 'name': 'dog'},\n",
        "    19: {'id': 19, 'name': 'horse'},\n",
        "    20: {'id': 20, 'name': 'sheep'},\n",
        "    21: {'id': 21, 'name': 'cow'},\n",
        "    22: {'id': 22, 'name': 'elephant'},\n",
        "    23: {'id': 23, 'name': 'bear'},\n",
        "    24: {'id': 24, 'name': 'zebra'},\n",
        "    25: {'id': 25, 'name': 'giraffe'},\n",
        "    27: {'id': 27, 'name': 'backpack'},\n",
        "    28: {'id': 28, 'name': 'umbrella'},\n",
        "    31: {'id': 31, 'name': 'handbag'},\n",
        "    32: {'id': 32, 'name': 'tie'},\n",
        "    33: {'id': 33, 'name': 'suitcase'},\n",
        "    34: {'id': 34, 'name': 'frisbee'},\n",
        "    35: {'id': 35, 'name': 'skis'},\n",
        "    36: {'id': 36, 'name': 'snowboard'},\n",
        "    37: {'id': 37, 'name': 'sports ball'},\n",
        "    38: {'id': 38, 'name': 'kite'},\n",
        "    39: {'id': 39, 'name': 'baseball bat'},\n",
        "    40: {'id': 40, 'name': 'baseball glove'},\n",
        "    41: {'id': 41, 'name': 'skateboard'},\n",
        "    42: {'id': 42, 'name': 'surfboard'},\n",
        "    43: {'id': 43, 'name': 'tennis racket'},\n",
        "    44: {'id': 44, 'name': 'bottle'},\n",
        "    46: {'id': 46, 'name': 'wine glass'},\n",
        "    47: {'id': 47, 'name': 'cup'},\n",
        "    48: {'id': 48, 'name': 'fork'},\n",
        "    49: {'id': 49, 'name': 'knife'},\n",
        "    50: {'id': 50, 'name': 'spoon'},\n",
        "    51: {'id': 51, 'name': 'bowl'},\n",
        "    52: {'id': 52, 'name': 'banana'},\n",
        "    53: {'id': 53, 'name': 'apple'},\n",
        "    54: {'id': 54, 'name': 'sandwich'},\n",
        "    55: {'id': 55, 'name': 'orange'},\n",
        "    56: {'id': 56, 'name': 'broccoli'},\n",
        "    57: {'id': 57, 'name': 'carrot'},\n",
        "    58: {'id': 58, 'name': 'hot dog'},\n",
        "    59: {'id': 59, 'name': 'pizza'},\n",
        "    60: {'id': 60, 'name': 'donut'},\n",
        "    61: {'id': 61, 'name': 'cake'},\n",
        "    62: {'id': 62, 'name': 'chair'},\n",
        "    63: {'id': 63, 'name': 'couch'},\n",
        "    64: {'id': 64, 'name': 'potted plant'},\n",
        "    65: {'id': 65, 'name': 'bed'},\n",
        "    67: {'id': 67, 'name': 'dining table'},\n",
        "    70: {'id': 70, 'name': 'toilet'},\n",
        "    72: {'id': 72, 'name': 'tv'},\n",
        "    73: {'id': 73, 'name': 'laptop'},\n",
        "    74: {'id': 74, 'name': 'mouse'},\n",
        "    75: {'id': 75, 'name': 'remote'},\n",
        "    76: {'id': 76, 'name': 'keyboard'},\n",
        "    77: {'id': 77, 'name': 'cell phone'},\n",
        "    78: {'id': 78, 'name': 'microwave'},\n",
        "    79: {'id': 79, 'name': 'oven'},\n",
        "    80: {'id': 80, 'name': 'toaster'},\n",
        "    81: {'id': 81, 'name': 'sink'},\n",
        "    82: {'id': 82, 'name': 'refrigerator'},\n",
        "    84: {'id': 84, 'name': 'book'},\n",
        "    85: {'id': 85, 'name': 'clock'},\n",
        "    86: {'id': 86, 'name': 'vase'},\n",
        "    87: {'id': 87, 'name': 'scissors'},\n",
        "    88: {'id': 88, 'name': 'teddy bear'},\n",
        "    89: {'id': 89, 'name': 'hair drier'},\n",
        "    90: {'id': 90, 'name': 'toothbrush'},\n",
        "}"
      ],
      "execution_count": 5,
      "outputs": []
    },
    {
      "cell_type": "code",
      "metadata": {
        "id": "QwcBC2TlPSwg",
        "colab_type": "code",
        "colab": {},
        "tags": []
      },
      "source": [
        "# Download the saved model and put it into models/research/object_detection/test_data/\n",
        "!wget http://download.tensorflow.org/models/object_detection/tf2/20200711/efficientdet_d5_coco17_tpu-32.tar.gz\n",
        "!tar -xf efficientdet_d5_coco17_tpu-32.tar.gz\n",
        "!mv efficientdet_d5_coco17_tpu-32/ models/research/object_detection/test_data/"
      ],
      "execution_count": null,
      "outputs": []
    },
    {
      "cell_type": "code",
      "metadata": {
        "colab_type": "code",
        "id": "Z2p-PmKLYCVU",
        "colab": {},
        "tags": []
      },
      "source": [
        "start_time = time.time()\n",
        "tf.keras.backend.clear_session()\n",
        "detect_fn = tf.saved_model.load(r'D:\\MyWork\\TF_OD_API\\Workspace\\training_demo\\pre-trained-models\\ssd_mobilenet_v2_320x320_coco17_tpu-8\\saved_model')\n",
        "end_time = time.time()\n",
        "elapsed_time = end_time - start_time\n",
        "print('Elapsed time: ' + str(elapsed_time) + 's')"
      ],
      "execution_count": null,
      "outputs": []
    },
    {
      "cell_type": "code",
      "metadata": {
        "colab_type": "code",
        "id": "vukkhd5-9NSL",
        "colab": {}
      },
      "source": [
        "import time\n",
        "\n",
        "image_dir = r\"D:\\MyWork\\TF_OD_API\\Workspace\\training_demo\\images\\SourceImages\"\n",
        "\n",
        "elapsed = []\n",
        "for i in range(2):\n",
        "  image_path = os.path.join(image_dir, 'image' + str(i + 1) + '.jpg')\n",
        "  image_np = load_image_into_numpy_array(image_path)\n",
        "  input_tensor = np.expand_dims(image_np, 0)\n",
        "  start_time = time.time()\n",
        "  detections = detect_fn(input_tensor)\n",
        "  end_time = time.time()\n",
        "  elapsed.append(end_time - start_time)\n",
        "\n",
        "  plt.rcParams['figure.figsize'] = [42, 21]\n",
        "  label_id_offset = 1\n",
        "  image_np_with_detections = image_np.copy()\n",
        "  viz_utils.visualize_boxes_and_labels_on_image_array(\n",
        "        image_np_with_detections,\n",
        "        detections['detection_boxes'][0].numpy(),\n",
        "        detections['detection_classes'][0].numpy().astype(np.int32),\n",
        "        detections['detection_scores'][0].numpy(),\n",
        "        category_index,\n",
        "        use_normalized_coordinates=True,\n",
        "        max_boxes_to_draw=200,\n",
        "        min_score_thresh=.40,\n",
        "        agnostic_mode=False)\n",
        "  plt.subplot(2, 1, i+1)\n",
        "  plt.imshow(image_np_with_detections)\n",
        "\n",
        "mean_elapsed = sum(elapsed) / float(len(elapsed))\n",
        "print('Elapsed time: ' + str(mean_elapsed) + ' second per image')"
      ],
      "execution_count": null,
      "outputs": []
    },
    {
      "cell_type": "code",
      "execution_count": null,
      "metadata": {},
      "outputs": [],
      "source": []
    }
  ]
}